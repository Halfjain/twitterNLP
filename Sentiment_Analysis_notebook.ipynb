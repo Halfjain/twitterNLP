{
 "cells": [
  {
   "cell_type": "code",
   "execution_count": 1,
   "metadata": {},
   "outputs": [
    {
     "name": "stderr",
     "output_type": "stream",
     "text": [
      "[nltk_data] Downloading package wordnet to\n",
      "[nltk_data]     C:\\Users\\hza0020\\AppData\\Roaming\\nltk_data...\n",
      "[nltk_data]   Package wordnet is already up-to-date!\n"
     ]
    },
    {
     "data": {
      "text/plain": [
       "True"
      ]
     },
     "execution_count": 1,
     "metadata": {},
     "output_type": "execute_result"
    }
   ],
   "source": [
    "import json as js\n",
    "import glob\n",
    "import sys\n",
    "import pandas as pd\n",
    "import numpy as np\n",
    "from sklearn.feature_extraction.text import TfidfVectorizer, CountVectorizer\n",
    "from sklearn.decomposition import NMF, LatentDirichletAllocation\n",
    "from sklearn.manifold import TSNE\n",
    "from sklearn.feature_extraction import text \n",
    "from sklearn.cluster import KMeans, MiniBatchKMeans\n",
    "import matplotlib.pyplot as plt\n",
    "import matplotlib.patches as mpatches\n",
    "import matplotlib\n",
    "%matplotlib inline\n",
    "import seaborn as sns\n",
    "import numpy as np\n",
    "import bokeh.plotting as bp\n",
    "from bokeh.plotting import save\n",
    "from bokeh.models import HoverTool\n",
    "import os\n",
    "from copy import deepcopy\n",
    "import time\n",
    "import datetime\n",
    "import nltk\n",
    "nltk.download('wordnet')"
   ]
  },
  {
   "cell_type": "code",
   "execution_count": 2,
   "metadata": {},
   "outputs": [],
   "source": [
    "additional_stop_words = ['rt','t','http','u','s','just','follow'] ##USE THIS FOR STOP WORDS\n",
    "stop_words = text.ENGLISH_STOP_WORDS.union(additional_stop_words)"
   ]
  },
  {
   "cell_type": "code",
   "execution_count": 3,
   "metadata": {},
   "outputs": [],
   "source": [
    "from nltk import word_tokenize\n",
    "from nltk.tokenize import RegexpTokenizer\n",
    "tokenizer = RegexpTokenizer(r'\\w+')\n",
    "from nltk.stem import WordNetLemmatizer \n",
    "class LemmaTokenizer(object):\n",
    "    def __init__(self):\n",
    "        self.wnl = WordNetLemmatizer()\n",
    "    def __call__(self, doc):\n",
    "        return [self.wnl.lemmatize(t) for t in tokenizer.tokenize(doc)]"
   ]
  },
  {
   "cell_type": "code",
   "execution_count": 4,
   "metadata": {},
   "outputs": [],
   "source": [
    "directory = 'C:/Users/hza0020/Documents/mytweets/*'\n",
    "dictionary = 'C:/Users/hza0020/Documents/AFINN-111.txt'\n",
    "# you can run below code to find pattern of folder addresses in your device:\n",
    "# import os\n",
    "# print(os.getcwd())"
   ]
  },
  {
   "cell_type": "code",
   "execution_count": 5,
   "metadata": {},
   "outputs": [],
   "source": [
    "fdict = open(dictionary,'r')\n",
    "sent_dict = {}\n",
    "for line in fdict:\n",
    "    line = line.strip('\\n')\n",
    "    line = line.split('\\t')\n",
    "    sent_dict[line[0]] = int(line[1])"
   ]
  },
  {
   "cell_type": "markdown",
   "metadata": {},
   "source": [
    "## LOAD TWEET OBJECTS"
   ]
  },
  {
   "cell_type": "code",
   "execution_count": 6,
   "metadata": {},
   "outputs": [],
   "source": [
    "tweet_objects = []\n",
    "dirs = glob.glob(directory)\n",
    "for dr in dirs:\n",
    "    files = glob.glob(dr+'/*')\n",
    "    for f in files:\n",
    "            fin = open(f,'r')\n",
    "            for line in fin:\n",
    "                try:\n",
    "                    dat = js.loads(line)\n",
    "                    tweet_objects.append(dat)\n",
    "                except:\n",
    "                    continue\n",
    "            fin.close()"
   ]
  },
  {
   "cell_type": "code",
   "execution_count": 7,
   "metadata": {},
   "outputs": [],
   "source": [
    "months = {'Jan':'01','Feb':'02','Mar':'03','Apr':'04','May':'05','Jun':'06','Jul':'07',\\\n",
    "         'Aug':'08','Sep':'09','Oct':'10','Nov':'11','Dec':'12'}"
   ]
  },
  {
   "cell_type": "code",
   "execution_count": 8,
   "metadata": {},
   "outputs": [],
   "source": [
    "fout = open('tmp.dat','w')\n",
    "for ln in tweet_objects:\n",
    "    try:\n",
    "        entities = ln['entities']\n",
    "        hashtags = entities['hashtags']\n",
    "        user_mentions = entities['user_mentions']\n",
    "    except KeyError:\n",
    "        continue\n",
    "    for hashtag in hashtags:\n",
    "        try:\n",
    "            hashtag = hashtag['text']\n",
    "            date = ln['created_at']\n",
    "            #date = date.split()\n",
    "            date = str(date)#str(months[date[1]])+str(date[2])+'18_'+str(date[3])\n",
    "            favorite_count = ln['favorite_count']\n",
    "            user = ln['user']\n",
    "            followers = user['followers_count']\n",
    "            username = user['screen_name']\n",
    "            location = user['location']\n",
    "            txt = ln['text'].replace('\\n','')\n",
    "            fout.write(date + '\\t' + str(favorite_count)+','+str(followers)+',\"'+str(username)+'\",\"'+str(location)+'\",\"'+str(txt)+'\"\\n')\n",
    "        except UnicodeEncodeError:#.encode('utf-8')\n",
    "            continue\n",
    "fout.close()"
   ]
  },
  {
   "cell_type": "code",
   "execution_count": 12,
   "metadata": {},
   "outputs": [],
   "source": [
    "df = pd.read_csv('tmp.dat',error_bad_lines=False,header=None,names=\\\n",
    "                 ['date','followers','username','location','tweet'],\\\n",
    "                 delimiter=',',index_col=False)#,encoding='latin-1',encoding='utf-8'\n",
    "df.shape[0]\n",
    "df.drop_duplicates(inplace=True)"
   ]
  },
  {
   "cell_type": "code",
   "execution_count": 13,
   "metadata": {},
   "outputs": [],
   "source": [
    "rm_duplicates = True\n",
    "if rm_duplicates == False:\n",
    "    df['rt'] = df['tweet'].str.split(':', expand=True).ix[:,0]\n",
    "    df.drop_duplicates(subset=['rt'], keep='first',inplace=True)\n",
    "    df.rt.head()\n",
    "    df.shape[0]"
   ]
  },
  {
   "cell_type": "code",
   "execution_count": 14,
   "metadata": {},
   "outputs": [
    {
     "data": {
      "text/plain": [
       "24415"
      ]
     },
     "execution_count": 14,
     "metadata": {},
     "output_type": "execute_result"
    }
   ],
   "source": [
    "df.shape[0]"
   ]
  },
  {
   "cell_type": "code",
   "execution_count": 15,
   "metadata": {},
   "outputs": [
    {
     "data": {
      "text/html": [
       "<div>\n",
       "<style scoped>\n",
       "    .dataframe tbody tr th:only-of-type {\n",
       "        vertical-align: middle;\n",
       "    }\n",
       "\n",
       "    .dataframe tbody tr th {\n",
       "        vertical-align: top;\n",
       "    }\n",
       "\n",
       "    .dataframe thead th {\n",
       "        text-align: right;\n",
       "    }\n",
       "</style>\n",
       "<table border=\"1\" class=\"dataframe\">\n",
       "  <thead>\n",
       "    <tr style=\"text-align: right;\">\n",
       "      <th></th>\n",
       "      <th>date</th>\n",
       "      <th>followers</th>\n",
       "      <th>username</th>\n",
       "      <th>location</th>\n",
       "      <th>tweet</th>\n",
       "    </tr>\n",
       "  </thead>\n",
       "  <tbody>\n",
       "    <tr>\n",
       "      <th>0</th>\n",
       "      <td>Mon Aug 13 22:35:55 +0000 2018\\t0</td>\n",
       "      <td>21</td>\n",
       "      <td>RaLopez404</td>\n",
       "      <td>Woodhaven, NY</td>\n",
       "      <td>#ilovethe80 #myadidas #Adidas step up #nike do...</td>\n",
       "    </tr>\n",
       "    <tr>\n",
       "      <th>4</th>\n",
       "      <td>Thu Aug 09 07:14:30 +0000 2018\\t0</td>\n",
       "      <td>218</td>\n",
       "      <td>SeymorePutts</td>\n",
       "      <td>None</td>\n",
       "      <td>RT @BerniceKing: Many who defend #AlexJones f...</td>\n",
       "    </tr>\n",
       "    <tr>\n",
       "      <th>5</th>\n",
       "      <td>Thu Aug 09 21:40:44 +0000 2018\\t0</td>\n",
       "      <td>857</td>\n",
       "      <td>ReneeB_75</td>\n",
       "      <td>DMV</td>\n",
       "      <td>#ImStillWithHer @maddow #AMJOY #Russiagate #wo...</td>\n",
       "    </tr>\n",
       "    <tr>\n",
       "      <th>12</th>\n",
       "      <td>Tue Aug 14 13:22:39 +0000 2018\\t0</td>\n",
       "      <td>150</td>\n",
       "      <td>jenniferbristow</td>\n",
       "      <td>Holland, Michigan</td>\n",
       "      <td>RT @CHRIS_Daughtry: Hey @nike I was SO HAPPY t...</td>\n",
       "    </tr>\n",
       "    <tr>\n",
       "      <th>13</th>\n",
       "      <td>Sun Aug 12 19:32:53 +0000 2018\\t0</td>\n",
       "      <td>291</td>\n",
       "      <td>pjtaylorjr</td>\n",
       "      <td>Fort Worth, TX</td>\n",
       "      <td>Dear people that still hate @Kaepernick7 and #...</td>\n",
       "    </tr>\n",
       "    <tr>\n",
       "      <th>14</th>\n",
       "      <td>Thu Aug 09 03:23:58 +0000 2018\\t0</td>\n",
       "      <td>132</td>\n",
       "      <td>Geena_Lyon</td>\n",
       "      <td>High Desert, CA</td>\n",
       "      <td>RT @HarryForCT: Iran, give up your nukes if yo...</td>\n",
       "    </tr>\n",
       "    <tr>\n",
       "      <th>16</th>\n",
       "      <td>Wed Aug 15 16:43:01 +0000 2018\\t0</td>\n",
       "      <td>1218</td>\n",
       "      <td>TrueLies6</td>\n",
       "      <td>The If City</td>\n",
       "      <td>RT @J23app: Up-close with the Purple Cactus J...</td>\n",
       "    </tr>\n",
       "    <tr>\n",
       "      <th>17</th>\n",
       "      <td>Mon Aug 13 09:06:51 +0000 2018\\t0</td>\n",
       "      <td>8</td>\n",
       "      <td>Fox54710</td>\n",
       "      <td>Sommerviller, France</td>\n",
       "      <td>RT @Saintetixx: AS Nancy Lorraine kit redesign...</td>\n",
       "    </tr>\n",
       "    <tr>\n",
       "      <th>27</th>\n",
       "      <td>Mon Aug 13 11:54:47 +0000 2018\\t0</td>\n",
       "      <td>63728</td>\n",
       "      <td>BotYeezy</td>\n",
       "      <td>United States</td>\n",
       "      <td>#Nike React Element 87 Desert SandColor: Des...</td>\n",
       "    </tr>\n",
       "    <tr>\n",
       "      <th>28</th>\n",
       "      <td>Thu Aug 09 09:51:30 +0000 2018\\t0</td>\n",
       "      <td>796</td>\n",
       "      <td>Meggingsrebels</td>\n",
       "      <td>None</td>\n",
       "      <td>RT @Belew3Belew: Messing around with my photo ...</td>\n",
       "    </tr>\n",
       "    <tr>\n",
       "      <th>40</th>\n",
       "      <td>Tue Aug 14 03:22:38 +0000 2018\\t0</td>\n",
       "      <td>2325</td>\n",
       "      <td>TheBG_Show</td>\n",
       "      <td>Omaha - The Desert - Oakland</td>\n",
       "      <td>@jonathanrwall @rollzie7 @PGATOUR Average golf...</td>\n",
       "    </tr>\n",
       "    <tr>\n",
       "      <th>42</th>\n",
       "      <td>Wed Aug 15 06:30:12 +0000 2018\\t0</td>\n",
       "      <td>209</td>\n",
       "      <td>ElPabliny</td>\n",
       "      <td>En el centro del universo.</td>\n",
       "      <td>Go and risk yourself. #risk #justdoit #workhar...</td>\n",
       "    </tr>\n",
       "    <tr>\n",
       "      <th>46</th>\n",
       "      <td>Fri Aug 10 00:08:30 +0000 2018\\t0</td>\n",
       "      <td>299</td>\n",
       "      <td>CodySura61</td>\n",
       "      <td>Milwaukee, WI</td>\n",
       "      <td>These #Titans uniforms are hideous... Swing an...</td>\n",
       "    </tr>\n",
       "    <tr>\n",
       "      <th>48</th>\n",
       "      <td>Mon Aug 13 10:09:51 +0000 2018\\t0</td>\n",
       "      <td>57</td>\n",
       "      <td>Thoughtsof_Drew</td>\n",
       "      <td>youtube.com/kigleyNB585</td>\n",
       "      <td>#iwill #ua #nrc #justdoit #justdrewit #nikeplu...</td>\n",
       "    </tr>\n",
       "    <tr>\n",
       "      <th>62</th>\n",
       "      <td>Sun Aug 12 12:24:45 +0000 2018\\t0</td>\n",
       "      <td>895</td>\n",
       "      <td>Alboteaparty</td>\n",
       "      <td>Florida, USA</td>\n",
       "      <td>Post workout face#exercise #workout #justdoit ...</td>\n",
       "    </tr>\n",
       "    <tr>\n",
       "      <th>65</th>\n",
       "      <td>Sun Aug 12 18:44:33 +0000 2018\\t0</td>\n",
       "      <td>469</td>\n",
       "      <td>Jenwifonen</td>\n",
       "      <td>South Carolina, USA</td>\n",
       "      <td>@ESTE84N @brecollier I'm so sick of the #Nike ...</td>\n",
       "    </tr>\n",
       "    <tr>\n",
       "      <th>66</th>\n",
       "      <td>Sun Aug 12 23:18:53 +0000 2018\\t0</td>\n",
       "      <td>49</td>\n",
       "      <td>MyuShoes</td>\n",
       "      <td>Maryland, USA</td>\n",
       "      <td>Check out Mens Nike Air More Uptempo 2012 Bask...</td>\n",
       "    </tr>\n",
       "    <tr>\n",
       "      <th>67</th>\n",
       "      <td>Thu Aug 09 00:57:52 +0000 2018\\t0</td>\n",
       "      <td>2924</td>\n",
       "      <td>kevinmcnamara88</td>\n",
       "      <td>Coolangatta, Gold Coast</td>\n",
       "      <td>Dont listen to the naysayers and negative peo...</td>\n",
       "    </tr>\n",
       "    <tr>\n",
       "      <th>69</th>\n",
       "      <td>Tue Aug 14 04:41:18 +0000 2018\\t0</td>\n",
       "      <td>197</td>\n",
       "      <td>Chanel_Rene_</td>\n",
       "      <td>None</td>\n",
       "      <td>RT @SloaneStephens: Just getting started...@Ni...</td>\n",
       "    </tr>\n",
       "    <tr>\n",
       "      <th>70</th>\n",
       "      <td>Tue Aug 14 19:08:32 +0000 2018\\t0</td>\n",
       "      <td>73</td>\n",
       "      <td>Tourettehead11</td>\n",
       "      <td>Virginia, USA</td>\n",
       "      <td>Just got an early birthday gift from my mom! T...</td>\n",
       "    </tr>\n",
       "    <tr>\n",
       "      <th>73</th>\n",
       "      <td>Fri Aug 10 02:16:35 +0000 2018\\t0</td>\n",
       "      <td>44</td>\n",
       "      <td>Cowboys4Life329</td>\n",
       "      <td>None</td>\n",
       "      <td>Its so #racist Brandon Weedon still in the #N...</td>\n",
       "    </tr>\n",
       "    <tr>\n",
       "      <th>76</th>\n",
       "      <td>Mon Aug 13 02:26:27 +0000 2018\\t0</td>\n",
       "      <td>103</td>\n",
       "      <td>kpdng59</td>\n",
       "      <td>St George, UT</td>\n",
       "      <td>This is what Ill gut you in your sleep look...</td>\n",
       "    </tr>\n",
       "    <tr>\n",
       "      <th>84</th>\n",
       "      <td>Sat Aug 11 08:22:19 +0000 2018\\t0</td>\n",
       "      <td>1119</td>\n",
       "      <td>558525daiki</td>\n",
       "      <td>None</td>\n",
       "      <td>RT @flymagazine: ALLDAY 2018 SUMMER DAY 1 RESU...</td>\n",
       "    </tr>\n",
       "    <tr>\n",
       "      <th>87</th>\n",
       "      <td>Sat Aug 11 16:58:02 +0000 2018\\t0</td>\n",
       "      <td>85082</td>\n",
       "      <td>RunnerSpace_com</td>\n",
       "      <td>Eugene, Oregon</td>\n",
       "      <td>Ericka VanderLende had a chat with @dyestat at...</td>\n",
       "    </tr>\n",
       "    <tr>\n",
       "      <th>88</th>\n",
       "      <td>Thu Aug 09 02:10:59 +0000 2018\\t0</td>\n",
       "      <td>1748</td>\n",
       "      <td>RAOCES</td>\n",
       "      <td>None</td>\n",
       "      <td>RT @BerniceKing: Many who defend #AlexJones f...</td>\n",
       "    </tr>\n",
       "  </tbody>\n",
       "</table>\n",
       "</div>"
      ],
      "text/plain": [
       "                                 date  followers         username  \\\n",
       "0   Mon Aug 13 22:35:55 +0000 2018\\t0         21       RaLopez404   \n",
       "4   Thu Aug 09 07:14:30 +0000 2018\\t0        218     SeymorePutts   \n",
       "5   Thu Aug 09 21:40:44 +0000 2018\\t0        857        ReneeB_75   \n",
       "12  Tue Aug 14 13:22:39 +0000 2018\\t0        150  jenniferbristow   \n",
       "13  Sun Aug 12 19:32:53 +0000 2018\\t0        291       pjtaylorjr   \n",
       "14  Thu Aug 09 03:23:58 +0000 2018\\t0        132       Geena_Lyon   \n",
       "16  Wed Aug 15 16:43:01 +0000 2018\\t0       1218        TrueLies6   \n",
       "17  Mon Aug 13 09:06:51 +0000 2018\\t0          8         Fox54710   \n",
       "27  Mon Aug 13 11:54:47 +0000 2018\\t0      63728         BotYeezy   \n",
       "28  Thu Aug 09 09:51:30 +0000 2018\\t0        796   Meggingsrebels   \n",
       "40  Tue Aug 14 03:22:38 +0000 2018\\t0       2325       TheBG_Show   \n",
       "42  Wed Aug 15 06:30:12 +0000 2018\\t0        209        ElPabliny   \n",
       "46  Fri Aug 10 00:08:30 +0000 2018\\t0        299       CodySura61   \n",
       "48  Mon Aug 13 10:09:51 +0000 2018\\t0         57  Thoughtsof_Drew   \n",
       "62  Sun Aug 12 12:24:45 +0000 2018\\t0        895     Alboteaparty   \n",
       "65  Sun Aug 12 18:44:33 +0000 2018\\t0        469       Jenwifonen   \n",
       "66  Sun Aug 12 23:18:53 +0000 2018\\t0         49         MyuShoes   \n",
       "67  Thu Aug 09 00:57:52 +0000 2018\\t0       2924  kevinmcnamara88   \n",
       "69  Tue Aug 14 04:41:18 +0000 2018\\t0        197     Chanel_Rene_   \n",
       "70  Tue Aug 14 19:08:32 +0000 2018\\t0         73   Tourettehead11   \n",
       "73  Fri Aug 10 02:16:35 +0000 2018\\t0         44  Cowboys4Life329   \n",
       "76  Mon Aug 13 02:26:27 +0000 2018\\t0        103          kpdng59   \n",
       "84  Sat Aug 11 08:22:19 +0000 2018\\t0       1119      558525daiki   \n",
       "87  Sat Aug 11 16:58:02 +0000 2018\\t0      85082  RunnerSpace_com   \n",
       "88  Thu Aug 09 02:10:59 +0000 2018\\t0       1748           RAOCES   \n",
       "\n",
       "                         location  \\\n",
       "0                   Woodhaven, NY   \n",
       "4                            None   \n",
       "5                             DMV   \n",
       "12              Holland, Michigan   \n",
       "13                Fort Worth, TX    \n",
       "14                High Desert, CA   \n",
       "16                    The If City   \n",
       "17           Sommerviller, France   \n",
       "27                  United States   \n",
       "28                           None   \n",
       "40  Omaha - The Desert - Oakland    \n",
       "42     En el centro del universo.   \n",
       "46                  Milwaukee, WI   \n",
       "48        youtube.com/kigleyNB585   \n",
       "62                   Florida, USA   \n",
       "65            South Carolina, USA   \n",
       "66                  Maryland, USA   \n",
       "67        Coolangatta, Gold Coast   \n",
       "69                           None   \n",
       "70                  Virginia, USA   \n",
       "73                           None   \n",
       "76                  St George, UT   \n",
       "84                           None   \n",
       "87                 Eugene, Oregon   \n",
       "88                           None   \n",
       "\n",
       "                                                tweet  \n",
       "0   #ilovethe80 #myadidas #Adidas step up #nike do...  \n",
       "4   RT @BerniceKing: Many who defend #AlexJones f...  \n",
       "5   #ImStillWithHer @maddow #AMJOY #Russiagate #wo...  \n",
       "12  RT @CHRIS_Daughtry: Hey @nike I was SO HAPPY t...  \n",
       "13  Dear people that still hate @Kaepernick7 and #...  \n",
       "14  RT @HarryForCT: Iran, give up your nukes if yo...  \n",
       "16  RT @J23app: Up-close with the Purple Cactus J...  \n",
       "17  RT @Saintetixx: AS Nancy Lorraine kit redesign...  \n",
       "27  #Nike React Element 87 Desert SandColor: Des...  \n",
       "28  RT @Belew3Belew: Messing around with my photo ...  \n",
       "40  @jonathanrwall @rollzie7 @PGATOUR Average golf...  \n",
       "42  Go and risk yourself. #risk #justdoit #workhar...  \n",
       "46  These #Titans uniforms are hideous... Swing an...  \n",
       "48  #iwill #ua #nrc #justdoit #justdrewit #nikeplu...  \n",
       "62  Post workout face#exercise #workout #justdoit ...  \n",
       "65  @ESTE84N @brecollier I'm so sick of the #Nike ...  \n",
       "66  Check out Mens Nike Air More Uptempo 2012 Bask...  \n",
       "67  Dont listen to the naysayers and negative peo...  \n",
       "69  RT @SloaneStephens: Just getting started...@Ni...  \n",
       "70  Just got an early birthday gift from my mom! T...  \n",
       "73  Its so #racist Brandon Weedon still in the #N...  \n",
       "76  This is what Ill gut you in your sleep look...  \n",
       "84  RT @flymagazine: ALLDAY 2018 SUMMER DAY 1 RESU...  \n",
       "87  Ericka VanderLende had a chat with @dyestat at...  \n",
       "88  RT @BerniceKing: Many who defend #AlexJones f...  "
      ]
     },
     "execution_count": 15,
     "metadata": {},
     "output_type": "execute_result"
    }
   ],
   "source": [
    "df.head(25)"
   ]
  },
  {
   "cell_type": "code",
   "execution_count": 16,
   "metadata": {},
   "outputs": [
    {
     "name": "stdout",
     "output_type": "stream",
     "text": [
      "24415\n"
     ]
    }
   ],
   "source": [
    "#it removes the tweets that do not have any date for data cleaning\n",
    "dates = list(df.date)\n",
    "cleanDates = []\n",
    "favs = []\n",
    "ct = 0\n",
    "for date in dates:\n",
    "    date = date.split('\\t')\n",
    "    try:\n",
    "      ts = time.strftime('%Y-%m-%d %H:%M:%S', time.strptime(date[0],'%a %b %d %H:%M:%S +0000 %Y'))\n",
    "      favs.append(int(date[1]))\n",
    "      cleanDates.append(ts)\n",
    "      ct+=1\n",
    "    except:\n",
    "      cleanDates.append(np.NaN)\n",
    "      favs.append(0)\n",
    "print(ct)\n",
    "favs.reverse()\n",
    "cleanDates.reverse()"
   ]
  },
  {
   "cell_type": "code",
   "execution_count": 17,
   "metadata": {},
   "outputs": [
    {
     "name": "stdout",
     "output_type": "stream",
     "text": [
      "24415\n"
     ]
    }
   ],
   "source": [
    "print (len(cleanDates))\n",
    "se = pd.Series(cleanDates)\n",
    "df.date = se.values"
   ]
  },
  {
   "cell_type": "code",
   "execution_count": 18,
   "metadata": {},
   "outputs": [
    {
     "name": "stderr",
     "output_type": "stream",
     "text": [
      "C:\\Users\\hza0020\\AppData\\Local\\Continuum\\anaconda3\\lib\\site-packages\\ipykernel_launcher.py:8: UserWarning: Pandas doesn't allow columns to be created via a new attribute name - see https://pandas.pydata.org/pandas-docs/stable/indexing.html#attribute-access\n",
      "  \n",
      "C:\\Users\\hza0020\\AppData\\Local\\Continuum\\anaconda3\\lib\\site-packages\\ipykernel_launcher.py:8: UserWarning: Pandas doesn't allow columns to be created via a new attribute name - see https://pandas.pydata.org/pandas-docs/stable/indexing.html#attribute-access\n",
      "  \n",
      "C:\\Users\\hza0020\\AppData\\Local\\Continuum\\anaconda3\\lib\\site-packages\\ipykernel_launcher.py:8: UserWarning: Pandas doesn't allow columns to be created via a new attribute name - see https://pandas.pydata.org/pandas-docs/stable/indexing.html#attribute-access\n",
      "  \n"
     ]
    }
   ],
   "source": [
    "'''\n",
    "*** Tweets often use popular hashtags with unrelated topics.\n",
    "*** Certain words can be used in order to filter such tweets.\n",
    "*** Enter these words below in the bad_terms list.\n",
    "'''\n",
    "bad_terms = ['cock','ManiKENniMonica','nudes']\n",
    "for i in range(len(bad_terms)):\n",
    "    df.bad = df['tweet'].str.lower().str.contains(bad_terms[i].lower())\n",
    "    df = df[df.bad == False]"
   ]
  },
  {
   "cell_type": "code",
   "execution_count": 19,
   "metadata": {},
   "outputs": [
    {
     "data": {
      "text/plain": [
       "23353"
      ]
     },
     "execution_count": 19,
     "metadata": {},
     "output_type": "execute_result"
    }
   ],
   "source": [
    "df.shape[0]"
   ]
  },
  {
   "cell_type": "markdown",
   "metadata": {},
   "source": [
    "## COUNTING HASHTAGS AND CO-OCCURANCE OF HASHTAGS"
   ]
  },
  {
   "cell_type": "code",
   "execution_count": 20,
   "metadata": {},
   "outputs": [],
   "source": [
    "tweets = list(df.tweet)"
   ]
  },
  {
   "cell_type": "code",
   "execution_count": 21,
   "metadata": {},
   "outputs": [
    {
     "name": "stdout",
     "output_type": "stream",
     "text": [
      "#BOYCOTTNIKE:   926\n",
      "#IMWITHKAP:   282\n",
      "#JUSTDOIT:   14205\n",
      "#NIKE:   5773\n",
      "@NIKE:   6629\n",
      "@KAEPERNICK7:   6672\n",
      "#BOYCOTTKAEPERNICK:   16\n",
      "#COLINKAEPERNICK:   780\n",
      "#NFL:   270\n"
     ]
    }
   ],
   "source": [
    "hashtags = ['#BoycottNike','#ImWithKap','#JustDoIt','#Nike','@Nike','@kaepernick7',\\\n",
    "           '#BoycottKaepernick','#ColinKaepernick','#NFL']\n",
    "for i, tag in enumerate(hashtags): hashtags[i] = tag.lower() \n",
    "counts = [0 for i in range(len(hashtags))]\n",
    "for tweet in tweets:\n",
    "    tweet = tweet.lower()\n",
    "    for i, tag in enumerate(hashtags):\n",
    "        if tag in tweet:\n",
    "            counts[i] += 1\n",
    "for i, tag in enumerate(hashtags):\n",
    "    print(tag.upper()+':   '+str(counts[i]))"
   ]
  },
  {
   "cell_type": "code",
   "execution_count": 54,
   "metadata": {},
   "outputs": [],
   "source": [
    "tcounts = deepcopy(counts)\n",
    "# A shallow copy constructs a new compound object and then (to the extent possible) \n",
    "# inserts references into it to the objects found in the original.\n",
    "# A deep copy constructs a new compound object and then, recursively, \n",
    "# inserts copies into it of the objects found in the original."
   ]
  },
  {
   "cell_type": "code",
   "execution_count": 23,
   "metadata": {},
   "outputs": [
    {
     "data": {
      "image/png": "[encoded data removed]",
      "text/plain": [
       "<Figure size 432x288 with 1 Axes>"
      ]
     },
     "metadata": {
      "needs_background": "light"
     },
     "output_type": "display_data"
    }
   ],
   "source": [
    "plt.bar(hashtags,counts,color=['b','g','r','c','m','k','y'])\n",
    "plt.xticks(rotation='vertical')\n",
    "plt.title('Hashtag Frequency')\n",
    "plt.savefig('hashtag_frequency.png')\n",
    "plt.show()"
   ]
  },
  {
   "cell_type": "markdown",
   "metadata": {},
   "source": [
    "## TOP HASHTAGS"
   ]
  },
  {
   "cell_type": "code",
   "execution_count": 24,
   "metadata": {},
   "outputs": [],
   "source": [
    "topHashtags = {}\n",
    "for tweet in tweets:\n",
    "    tweet = tweet.lower()\n",
    "    tweet = tweet.split(' ')\n",
    "    for word in tweet:\n",
    "        if len(word) == 0:\n",
    "            continue\n",
    "        if word[0] == '#':\n",
    "            try:\n",
    "                topHashtags[word] += 1\n",
    "            except:\n",
    "                topHashtags[word] = 1\n",
    "sorted_by_value = sorted(topHashtags.items(), key=lambda kv: kv[1])\n",
    "#print(sorted_by_value)"
   ]
  },
  {
   "cell_type": "code",
   "execution_count": 59,
   "metadata": {},
   "outputs": [],
   "source": [
    "def plotNhashtags(d,n):\n",
    "    d = dict(d)\n",
    "    dkeys = [d.keys()]\n",
    "    dkeys = list(dkeys[0])\n",
    "    dvals = [d.values()]\n",
    "    dvals = list(dvals[0])\n",
    "    #print(list(dkeys[0]))\n",
    "    print (dvals[-n:])\n",
    "    plt.bar(dkeys[-n:],dvals[-n:],color=['r','g','c','m','b','k'])\n",
    "    plt.xticks(rotation='vertical')\n",
    "    plt.show()"
   ]
  },
  {
   "cell_type": "code",
   "execution_count": 60,
   "metadata": {},
   "outputs": [
    {
     "name": "stdout",
     "output_type": "stream",
     "text": [
      "[78, 81, 87, 91, 98, 100, 112, 133, 136, 137, 207, 239, 248, 434, 551, 642, 652, 946, 3188, 13209]\n"
     ]
    },
    {
     "data": {
      "image/png": "[encoded data removed]",
      "text/plain": [
       "<Figure size 432x288 with 1 Axes>"
      ]
     },
     "metadata": {
      "needs_background": "light"
     },
     "output_type": "display_data"
    }
   ],
   "source": [
    "NUMBER_OF_TOP_HASHTAGS = 20\n",
    "plotNhashtags(sorted_by_value,NUMBER_OF_TOP_HASHTAGS)"
   ]
  },
  {
   "cell_type": "markdown",
   "metadata": {},
   "source": [
    "## SORT BY DATE"
   ]
  },
  {
   "cell_type": "code",
   "execution_count": 27,
   "metadata": {},
   "outputs": [
    {
     "data": {
      "text/html": [
       "<div>\n",
       "<style scoped>\n",
       "    .dataframe tbody tr th:only-of-type {\n",
       "        vertical-align: middle;\n",
       "    }\n",
       "\n",
       "    .dataframe tbody tr th {\n",
       "        vertical-align: top;\n",
       "    }\n",
       "\n",
       "    .dataframe thead th {\n",
       "        text-align: right;\n",
       "    }\n",
       "</style>\n",
       "<table border=\"1\" class=\"dataframe\">\n",
       "  <thead>\n",
       "    <tr style=\"text-align: right;\">\n",
       "      <th></th>\n",
       "      <th>date</th>\n",
       "      <th>followers</th>\n",
       "      <th>username</th>\n",
       "      <th>location</th>\n",
       "      <th>tweet</th>\n",
       "    </tr>\n",
       "  </thead>\n",
       "  <tbody>\n",
       "    <tr>\n",
       "      <th>40419</th>\n",
       "      <td>2018-08-08 22:11:58</td>\n",
       "      <td>13092</td>\n",
       "      <td>OctopusVentures</td>\n",
       "      <td>London</td>\n",
       "      <td>#Broadway is Sohos busiest #shopping street &amp;...</td>\n",
       "    </tr>\n",
       "    <tr>\n",
       "      <th>40188</th>\n",
       "      <td>2018-08-08 23:27:38</td>\n",
       "      <td>1404</td>\n",
       "      <td>LorieKEckert</td>\n",
       "      <td>Ohio, USA</td>\n",
       "      <td>Food for thought: The impossible is often the ...</td>\n",
       "    </tr>\n",
       "    <tr>\n",
       "      <th>40086</th>\n",
       "      <td>2018-08-09 00:04:56</td>\n",
       "      <td>174</td>\n",
       "      <td>LilyJeannie65</td>\n",
       "      <td>The Netherlands</td>\n",
       "      <td>RT @NurmikKa: #AllbyMyself by #Conchita Wurst ...</td>\n",
       "    </tr>\n",
       "    <tr>\n",
       "      <th>40076</th>\n",
       "      <td>2018-08-09 00:10:37</td>\n",
       "      <td>3</td>\n",
       "      <td>WesleySecrest</td>\n",
       "      <td>Indian Trail, NC</td>\n",
       "      <td>A warmer 58 degrees this morning. #run #runnin...</td>\n",
       "    </tr>\n",
       "    <tr>\n",
       "      <th>40421</th>\n",
       "      <td>2018-08-09 00:30:39</td>\n",
       "      <td>4474</td>\n",
       "      <td>UdemyForfree100</td>\n",
       "      <td>morocco</td>\n",
       "      <td>RT @NYEditz: Twitter got you down? Then by all...</td>\n",
       "    </tr>\n",
       "    <tr>\n",
       "      <th>40576</th>\n",
       "      <td>2018-08-09 00:39:38</td>\n",
       "      <td>243</td>\n",
       "      <td>Gabe_Frei</td>\n",
       "      <td>Spanish Fork, UT</td>\n",
       "      <td>Just Duet#nike #choir</td>\n",
       "    </tr>\n",
       "    <tr>\n",
       "      <th>40626</th>\n",
       "      <td>2018-08-09 00:57:52</td>\n",
       "      <td>204</td>\n",
       "      <td>dickysmall88888</td>\n",
       "      <td>None</td>\n",
       "      <td>RT @CHilla415: As a @49ers fan, I'm disappoint...</td>\n",
       "    </tr>\n",
       "    <tr>\n",
       "      <th>40085</th>\n",
       "      <td>2018-08-09 01:00:16</td>\n",
       "      <td>762</td>\n",
       "      <td>ClydeCoCanada</td>\n",
       "      <td>Montréal / Toronto, Canada</td>\n",
       "      <td>@Nike Board Hit with #SexualMisconduct-Related...</td>\n",
       "    </tr>\n",
       "    <tr>\n",
       "      <th>40458</th>\n",
       "      <td>2018-08-09 01:32:53</td>\n",
       "      <td>1512</td>\n",
       "      <td>uniquesportshop</td>\n",
       "      <td>England, United Kingdom</td>\n",
       "      <td>@PSG_inside @ChampionsLeague VTG 1996 NIKE PSG...</td>\n",
       "    </tr>\n",
       "    <tr>\n",
       "      <th>40575</th>\n",
       "      <td>2018-08-09 01:35:48</td>\n",
       "      <td>433</td>\n",
       "      <td>aitor_gl10</td>\n",
       "      <td>None</td>\n",
       "      <td>RT @Nike: Start with a dream. Finish with a fi...</td>\n",
       "    </tr>\n",
       "    <tr>\n",
       "      <th>40097</th>\n",
       "      <td>2018-08-09 01:52:03</td>\n",
       "      <td>80</td>\n",
       "      <td>eBayFashions</td>\n",
       "      <td>online</td>\n",
       "      <td>Check out NIKE ORANGE DRI-FIT V NECK T SHIRT S...</td>\n",
       "    </tr>\n",
       "    <tr>\n",
       "      <th>40603</th>\n",
       "      <td>2018-08-09 02:10:59</td>\n",
       "      <td>82</td>\n",
       "      <td>chinnakaruppan</td>\n",
       "      <td>Tamil Nadu, India</td>\n",
       "      <td>RT @agmswami: Hurt them where it Pains. #NoHun...</td>\n",
       "    </tr>\n",
       "    <tr>\n",
       "      <th>40306</th>\n",
       "      <td>2018-08-09 02:27:06</td>\n",
       "      <td>18720</td>\n",
       "      <td>PatriotDreams</td>\n",
       "      <td>The Universe</td>\n",
       "      <td>RT @HashtagBoycott: Official #Boycott of #Nike...</td>\n",
       "    </tr>\n",
       "    <tr>\n",
       "      <th>40072</th>\n",
       "      <td>2018-08-09 02:53:01</td>\n",
       "      <td>60</td>\n",
       "      <td>JLog</td>\n",
       "      <td>New Jersey, USA</td>\n",
       "      <td>@Cannes_Lions Would be hard to top #Nike #Coli...</td>\n",
       "    </tr>\n",
       "    <tr>\n",
       "      <th>40661</th>\n",
       "      <td>2018-08-09 03:23:58</td>\n",
       "      <td>80</td>\n",
       "      <td>athenarosa</td>\n",
       "      <td>California</td>\n",
       "      <td>RT @Nike: Dont just dream of a place on the p...</td>\n",
       "    </tr>\n",
       "    <tr>\n",
       "      <th>40574</th>\n",
       "      <td>2018-08-09 04:37:14</td>\n",
       "      <td>33</td>\n",
       "      <td>dedigho</td>\n",
       "      <td>None</td>\n",
       "      <td>RT @chanecia: I just ran 3.19 mi with Nike+. h...</td>\n",
       "    </tr>\n",
       "    <tr>\n",
       "      <th>40152</th>\n",
       "      <td>2018-08-09 06:41:21</td>\n",
       "      <td>12</td>\n",
       "      <td>killerGmusic</td>\n",
       "      <td>instagram: @killergrapes</td>\n",
       "      <td>lets go 18 !!! #vote #voteinformed #pleasevo...</td>\n",
       "    </tr>\n",
       "    <tr>\n",
       "      <th>40668</th>\n",
       "      <td>2018-08-09 07:14:30</td>\n",
       "      <td>198</td>\n",
       "      <td>LucasTritz</td>\n",
       "      <td>Fontoy</td>\n",
       "      <td>RT @Nike: Dont just dream of a place on the p...</td>\n",
       "    </tr>\n",
       "    <tr>\n",
       "      <th>40430</th>\n",
       "      <td>2018-08-09 07:22:01</td>\n",
       "      <td>424</td>\n",
       "      <td>kingparkergold</td>\n",
       "      <td>New York, NY</td>\n",
       "      <td>RT @NikeNYC: New York doesn't dream crazy. We ...</td>\n",
       "    </tr>\n",
       "    <tr>\n",
       "      <th>40169</th>\n",
       "      <td>2018-08-09 09:38:43</td>\n",
       "      <td>3818</td>\n",
       "      <td>JustTheKickz</td>\n",
       "      <td>New York, NY</td>\n",
       "      <td>Nike Air Force 1 07 Skeleton Force QS on SN...</td>\n",
       "    </tr>\n",
       "    <tr>\n",
       "      <th>40637</th>\n",
       "      <td>2018-08-09 09:51:30</td>\n",
       "      <td>49830</td>\n",
       "      <td>tammy_maga</td>\n",
       "      <td>United States</td>\n",
       "      <td>RT @Pickles0201: I SO hope #SpawnOfSatan @Hill...</td>\n",
       "    </tr>\n",
       "    <tr>\n",
       "      <th>40180</th>\n",
       "      <td>2018-08-09 13:09:08</td>\n",
       "      <td>141</td>\n",
       "      <td>Kagamebruce</td>\n",
       "      <td>Mukono, Uganda</td>\n",
       "      <td>RT @GitzHQ: Proud Maasai warrior riding the tu...</td>\n",
       "    </tr>\n",
       "    <tr>\n",
       "      <th>40533</th>\n",
       "      <td>2018-08-09 13:44:53</td>\n",
       "      <td>46</td>\n",
       "      <td>sarahamanda97</td>\n",
       "      <td>Savannah</td>\n",
       "      <td>Monday Runday, my benchmark run is finished! #...</td>\n",
       "    </tr>\n",
       "    <tr>\n",
       "      <th>40314</th>\n",
       "      <td>2018-08-09 13:51:42</td>\n",
       "      <td>5433</td>\n",
       "      <td>StockXLive</td>\n",
       "      <td>Detroit, MI</td>\n",
       "      <td>Lowest Ask: $229 Nike React Element 87 Dark Gr...</td>\n",
       "    </tr>\n",
       "    <tr>\n",
       "      <th>40356</th>\n",
       "      <td>2018-08-09 14:01:18</td>\n",
       "      <td>312</td>\n",
       "      <td>retsil700</td>\n",
       "      <td>New Plymouth</td>\n",
       "      <td>#grate #great #nike @ Taranaki - like no other...</td>\n",
       "    </tr>\n",
       "  </tbody>\n",
       "</table>\n",
       "</div>"
      ],
      "text/plain": [
       "                     date  followers         username  \\\n",
       "40419 2018-08-08 22:11:58      13092  OctopusVentures   \n",
       "40188 2018-08-08 23:27:38       1404     LorieKEckert   \n",
       "40086 2018-08-09 00:04:56        174    LilyJeannie65   \n",
       "40076 2018-08-09 00:10:37          3    WesleySecrest   \n",
       "40421 2018-08-09 00:30:39       4474  UdemyForfree100   \n",
       "40576 2018-08-09 00:39:38        243        Gabe_Frei   \n",
       "40626 2018-08-09 00:57:52        204  dickysmall88888   \n",
       "40085 2018-08-09 01:00:16        762    ClydeCoCanada   \n",
       "40458 2018-08-09 01:32:53       1512  uniquesportshop   \n",
       "40575 2018-08-09 01:35:48        433       aitor_gl10   \n",
       "40097 2018-08-09 01:52:03         80     eBayFashions   \n",
       "40603 2018-08-09 02:10:59         82   chinnakaruppan   \n",
       "40306 2018-08-09 02:27:06      18720    PatriotDreams   \n",
       "40072 2018-08-09 02:53:01         60             JLog   \n",
       "40661 2018-08-09 03:23:58         80       athenarosa   \n",
       "40574 2018-08-09 04:37:14         33          dedigho   \n",
       "40152 2018-08-09 06:41:21         12     killerGmusic   \n",
       "40668 2018-08-09 07:14:30        198       LucasTritz   \n",
       "40430 2018-08-09 07:22:01        424   kingparkergold   \n",
       "40169 2018-08-09 09:38:43       3818     JustTheKickz   \n",
       "40637 2018-08-09 09:51:30      49830       tammy_maga   \n",
       "40180 2018-08-09 13:09:08        141      Kagamebruce   \n",
       "40533 2018-08-09 13:44:53         46    sarahamanda97   \n",
       "40314 2018-08-09 13:51:42       5433       StockXLive   \n",
       "40356 2018-08-09 14:01:18        312        retsil700   \n",
       "\n",
       "                         location  \\\n",
       "40419                      London   \n",
       "40188                   Ohio, USA   \n",
       "40086             The Netherlands   \n",
       "40076            Indian Trail, NC   \n",
       "40421                     morocco   \n",
       "40576            Spanish Fork, UT   \n",
       "40626                        None   \n",
       "40085  Montréal / Toronto, Canada   \n",
       "40458     England, United Kingdom   \n",
       "40575                        None   \n",
       "40097                      online   \n",
       "40603           Tamil Nadu, India   \n",
       "40306                The Universe   \n",
       "40072             New Jersey, USA   \n",
       "40661                  California   \n",
       "40574                        None   \n",
       "40152    instagram: @killergrapes   \n",
       "40668                      Fontoy   \n",
       "40430                New York, NY   \n",
       "40169                New York, NY   \n",
       "40637               United States   \n",
       "40180              Mukono, Uganda   \n",
       "40533                    Savannah   \n",
       "40314                 Detroit, MI   \n",
       "40356                New Plymouth   \n",
       "\n",
       "                                                   tweet  \n",
       "40419  #Broadway is Sohos busiest #shopping street &...  \n",
       "40188  Food for thought: The impossible is often the ...  \n",
       "40086  RT @NurmikKa: #AllbyMyself by #Conchita Wurst ...  \n",
       "40076  A warmer 58 degrees this morning. #run #runnin...  \n",
       "40421  RT @NYEditz: Twitter got you down? Then by all...  \n",
       "40576                              Just Duet#nike #choir  \n",
       "40626  RT @CHilla415: As a @49ers fan, I'm disappoint...  \n",
       "40085  @Nike Board Hit with #SexualMisconduct-Related...  \n",
       "40458  @PSG_inside @ChampionsLeague VTG 1996 NIKE PSG...  \n",
       "40575  RT @Nike: Start with a dream. Finish with a fi...  \n",
       "40097  Check out NIKE ORANGE DRI-FIT V NECK T SHIRT S...  \n",
       "40603  RT @agmswami: Hurt them where it Pains. #NoHun...  \n",
       "40306  RT @HashtagBoycott: Official #Boycott of #Nike...  \n",
       "40072  @Cannes_Lions Would be hard to top #Nike #Coli...  \n",
       "40661  RT @Nike: Dont just dream of a place on the p...  \n",
       "40574  RT @chanecia: I just ran 3.19 mi with Nike+. h...  \n",
       "40152  lets go 18 !!! #vote #voteinformed #pleasevo...  \n",
       "40668  RT @Nike: Dont just dream of a place on the p...  \n",
       "40430  RT @NikeNYC: New York doesn't dream crazy. We ...  \n",
       "40169  Nike Air Force 1 07 Skeleton Force QS on SN...  \n",
       "40637  RT @Pickles0201: I SO hope #SpawnOfSatan @Hill...  \n",
       "40180  RT @GitzHQ: Proud Maasai warrior riding the tu...  \n",
       "40533  Monday Runday, my benchmark run is finished! #...  \n",
       "40314  Lowest Ask: $229 Nike React Element 87 Dark Gr...  \n",
       "40356  #grate #great #nike @ Taranaki - like no other...  "
      ]
     },
     "execution_count": 27,
     "metadata": {},
     "output_type": "execute_result"
    }
   ],
   "source": [
    "df['date'] = pd.to_datetime(df['date'])\n",
    "df.sort_values(by='date',ascending=True,inplace=True)\n",
    "df.head(25)"
   ]
  },
  {
   "cell_type": "code",
   "execution_count": null,
   "metadata": {},
   "outputs": [],
   "source": []
  },
  {
   "cell_type": "code",
   "execution_count": 28,
   "metadata": {},
   "outputs": [
    {
     "name": "stdout",
     "output_type": "stream",
     "text": [
      "2221\n",
      "21132\n"
     ]
    }
   ],
   "source": [
    "ad_rollout = datetime.datetime(2018,9,2,23,59)\n",
    "before = df[df.date < ad_rollout]\n",
    "print(before.shape[0])\n",
    "after = df[df.date > ad_rollout]\n",
    "print(after.shape[0])\n",
    "btweets = list(before.tweet)\n",
    "atweets = list(after.tweet)"
   ]
  },
  {
   "cell_type": "code",
   "execution_count": 29,
   "metadata": {},
   "outputs": [
    {
     "name": "stdout",
     "output_type": "stream",
     "text": [
      "#BOYCOTTNIKE:   23\n",
      "#IMWITHKAP:   56\n",
      "#JUSTDOIT:   1087\n",
      "#NIKE:   624\n",
      "@NIKE:   838\n",
      "@KAEPERNICK7:   202\n",
      "#BOYCOTTKAEPERNICK:   0\n",
      "#COLINKAEPERNICK:   76\n",
      "#NFL:   33\n"
     ]
    }
   ],
   "source": [
    "for i, tag in enumerate(hashtags): hashtags[i] = tag.lower() \n",
    "bcounts = [0 for i in range(len(hashtags))]\n",
    "for tweet in btweets:\n",
    "    tweet = tweet.lower()\n",
    "    for i, tag in enumerate(hashtags):\n",
    "        if tag in tweet:\n",
    "            bcounts[i] += 1\n",
    "for i, tag in enumerate(hashtags):\n",
    "    print(tag.upper()+':   '+str(bcounts[i]))"
   ]
  },
  {
   "cell_type": "code",
   "execution_count": 30,
   "metadata": {},
   "outputs": [
    {
     "name": "stdout",
     "output_type": "stream",
     "text": [
      "#BOYCOTTNIKE:   903\n",
      "#IMWITHKAP:   226\n",
      "#JUSTDOIT:   13118\n",
      "#NIKE:   5149\n",
      "@NIKE:   5791\n",
      "@KAEPERNICK7:   6470\n",
      "#BOYCOTTKAEPERNICK:   16\n",
      "#COLINKAEPERNICK:   704\n",
      "#NFL:   237\n"
     ]
    }
   ],
   "source": [
    "for i, tag in enumerate(hashtags): hashtags[i] = tag.lower() \n",
    "acounts = [0 for i in range(len(hashtags))]\n",
    "for tweet in atweets:\n",
    "    tweet = tweet.lower()\n",
    "    for i, tag in enumerate(hashtags):\n",
    "        if tag in tweet:\n",
    "            acounts[i] += 1\n",
    "for i, tag in enumerate(hashtags):\n",
    "    print(tag.upper()+':   '+str(acounts[i]))"
   ]
  },
  {
   "cell_type": "code",
   "execution_count": 31,
   "metadata": {},
   "outputs": [
    {
     "data": {
      "image/png": "[encoded data removed]",
      "text/plain": [
       "<Figure size 432x288 with 1 Axes>"
      ]
     },
     "metadata": {
      "needs_background": "light"
     },
     "output_type": "display_data"
    }
   ],
   "source": [
    "plt.bar(hashtags,bcounts,color=['b','g','r','c','m','k','y'])\n",
    "plt.xticks(rotation='vertical')\n",
    "plt.show()"
   ]
  },
  {
   "cell_type": "code",
   "execution_count": 32,
   "metadata": {},
   "outputs": [
    {
     "data": {
      "image/png": "[encoded data removed]",
      "text/plain": [
       "<Figure size 432x288 with 1 Axes>"
      ]
     },
     "metadata": {
      "needs_background": "light"
     },
     "output_type": "display_data"
    }
   ],
   "source": [
    "plt.bar(hashtags,acounts,color=['b','g','r','c','m','k','y'])\n",
    "plt.xticks(rotation='vertical')\n",
    "plt.show()"
   ]
  },
  {
   "cell_type": "markdown",
   "metadata": {},
   "source": [
    "# Sentiment analysis using dictionary"
   ]
  },
  {
   "cell_type": "code",
   "execution_count": null,
   "metadata": {},
   "outputs": [],
   "source": []
  },
  {
   "cell_type": "code",
   "execution_count": 33,
   "metadata": {},
   "outputs": [],
   "source": [
    "tweet_sent = []\n",
    "for tweet in tweets:\n",
    "    tweet = tweet.lower()\n",
    "    tweet = tweet.split(' ')\n",
    "    sent = 0\n",
    "    for word in tweet:\n",
    "        word = word.strip('#')\n",
    "        try:\n",
    "            sent += sent_dict[word]\n",
    "        except:\n",
    "            pass\n",
    "    tweet_sent.append(sent)"
   ]
  },
  {
   "cell_type": "code",
   "execution_count": 34,
   "metadata": {},
   "outputs": [
    {
     "data": {
      "image/png": "[encoded data removed]",
      "text/plain": [
       "<Figure size 432x288 with 1 Axes>"
      ]
     },
     "metadata": {
      "needs_background": "light"
     },
     "output_type": "display_data"
    },
    {
     "data": {
      "image/png": "[encoded data removed]",
      "text/plain": [
       "<Figure size 432x288 with 1 Axes>"
      ]
     },
     "metadata": {
      "needs_background": "light"
     },
     "output_type": "display_data"
    }
   ],
   "source": [
    "plt.hist(tweet_sent,bins=[-7.5,-6.5,-5.5,-4.5,-3.5,-2.5,-1.5,-0.5,0.5,1.5,2.5,3.5,4.5,5.5,6.5,7.5,8.5,9.5])#,\n",
    "        #color=['r','r','r','r','r','r','r','k','g','g','g','g','g','g','g'])\n",
    "plt.xlim(-8,10)\n",
    "plt.show()\n",
    "plt.hist(tweet_sent,bins=[-10,-0.5,0.5,10])\n",
    "plt.xlim(-11,11)\n",
    "plt.show()"
   ]
  },
  {
   "cell_type": "code",
   "execution_count": 35,
   "metadata": {},
   "outputs": [
    {
     "data": {
      "image/png": "[encoded data removed]",
      "text/plain": [
       "<Figure size 432x288 with 1 Axes>"
      ]
     },
     "metadata": {
      "needs_background": "light"
     },
     "output_type": "display_data"
    },
    {
     "data": {
      "image/png": "[encoded data removed]",
      "text/plain": [
       "<Figure size 432x288 with 1 Axes>"
      ]
     },
     "metadata": {
      "needs_background": "light"
     },
     "output_type": "display_data"
    }
   ],
   "source": [
    "tweet_sent_alt = []\n",
    "for tweet in tweet_sent:\n",
    "    if tweet == 0:\n",
    "        pass\n",
    "    else:\n",
    "        tweet_sent_alt.append(tweet)\n",
    "plt.hist(tweet_sent_alt,bins=[-7,-6,-5,-4,-3,-2,-1,0,1.1,2.1,3.1,4.1,5.1,6.1,7.1,8.1,9.1])#,\n",
    "        #color=['r','r','r','r','r','r','r','k','g','g','g','g','g','g','g'])\n",
    "plt.xlim(-8,10)\n",
    "plt.show()\n",
    "plt.hist(tweet_sent_alt,bins=[-10,0,10],rwidth=0.9)\n",
    "plt.xlim(-10,10) \n",
    "plt.title('NEGATIVE                            POSITIVE')\n",
    "plt.show()"
   ]
  },
  {
   "cell_type": "code",
   "execution_count": 36,
   "metadata": {},
   "outputs": [
    {
     "name": "stdout",
     "output_type": "stream",
     "text": [
      "{'#boycottnike': 0.0367170626349892, '#imwithkap': 0.07801418439716312, '#justdoit': -0.029778247096092926, '#nike': 0.16005543045210463, '@nike': 0.16473072861668428, '@kaepernick7': 0.043465227817745804, '#boycottkaepernick': 0.125, '#colinkaepernick': -0.13076923076923078, '#nfl': -0.11481481481481481}\n"
     ]
    }
   ],
   "source": [
    "hashtags = ['#BoycottNike','#ImWithKap','#JustDoIt','#Nike','@Nike','@kaepernick7',\\\n",
    "           '#BoycottKaepernick','#ColinKaepernick','#NFL']\n",
    "for i, tag in enumerate(hashtags): hashtags[i] = tag.lower() \n",
    "counts = [0 for i in range(len(hashtags))]\n",
    "tag_sents = {}\n",
    "tag_sent_list = {}\n",
    "tag_sent_values = {}\n",
    "for tag in hashtags:\n",
    "    tag = tag.lower()\n",
    "    tag_sents[tag] = 0\n",
    "    tag_sent_list[tag] = []\n",
    "    tag_sent_values[tag] = 0\n",
    "#tweets_ = tweets[:100]\n",
    "for tweet in tweets:\n",
    "    tweet = tweet.lower()\n",
    "    tweet = tweet.split(' ')\n",
    "    sent = 0\n",
    "    for word in tweet:\n",
    "        #print (word)\n",
    "        word = word.strip('#')\n",
    "        try:\n",
    "            sent += sent_dict[word]\n",
    "        except:\n",
    "            pass\n",
    "    for i, tag in enumerate(hashtags):\n",
    "        tag = tag.lower()\n",
    "        if tag in tweet:\n",
    "            try:\n",
    "                tag_sents[tag] += sent\n",
    "                tag_sent_list[tag].append(sent)\n",
    "            except:\n",
    "                pass\n",
    "tag_sents_ = deepcopy(tag_sents)\n",
    "for i, key in enumerate(tag_sents_.keys()):\n",
    "    tag_sents_[key] = tag_sents_[key]/tcounts[i]\n",
    "print (tag_sents_)"
   ]
  },
  {
   "cell_type": "markdown",
   "metadata": {},
   "source": [
    "### Average Raw sentiment scores per hashtag"
   ]
  },
  {
   "cell_type": "code",
   "execution_count": 37,
   "metadata": {
    "scrolled": true
   },
   "outputs": [
    {
     "data": {
      "image/png": "[encoded data removed]",
      "text/plain": [
       "<Figure size 432x288 with 1 Axes>"
      ]
     },
     "metadata": {
      "needs_background": "light"
     },
     "output_type": "display_data"
    }
   ],
   "source": [
    "plt.bar(tag_sents_.keys(),tag_sents_.values(),color=['r','g','b','k'])\n",
    "plt.xticks(rotation='vertical')\n",
    "plt.show()"
   ]
  },
  {
   "cell_type": "markdown",
   "metadata": {},
   "source": [
    "### Normalized sentiment score"
   ]
  },
  {
   "cell_type": "code",
   "execution_count": 38,
   "metadata": {},
   "outputs": [],
   "source": [
    "#for i, key in enumerate(tag_sents.keys()):\n",
    "#    tag_sents_[key] = (tag_sents[key]*10)/(len(tweets))\n",
    "#plt.bar(tag_sents_.keys(),tag_sents_.values())\n",
    "#plt.xticks(rotation='vertical')\n",
    "#plt.show()"
   ]
  },
  {
   "cell_type": "markdown",
   "metadata": {},
   "source": [
    "### Total positive/negative tweets per hashtag"
   ]
  },
  {
   "cell_type": "code",
   "execution_count": 39,
   "metadata": {},
   "outputs": [
    {
     "name": "stdout",
     "output_type": "stream",
     "text": [
      "{'#boycottnike': 32, '#imwithkap': -2, '#justdoit': -1460, '#nike': 434, '@nike': 495, '@kaepernick7': 121, '#boycottkaepernick': 1, '#colinkaepernick': -9, '#nfl': -17}\n",
      "8443\n"
     ]
    },
    {
     "data": {
      "image/png": "[encoded data removed]",
      "text/plain": [
       "<Figure size 432x288 with 1 Axes>"
      ]
     },
     "metadata": {
      "needs_background": "light"
     },
     "output_type": "display_data"
    }
   ],
   "source": [
    "ct = 0\n",
    "for i, tag in enumerate(tag_sent_list.keys()):\n",
    "    #print(len(tag_sent_list[tag]))\n",
    "    for tweet in tag_sent_list[tag]:\n",
    "        if tweet > 0:\n",
    "            tag_sent_values[tag] += 1\n",
    "            ct += 1\n",
    "        elif tweet < 0:\n",
    "            tag_sent_values[tag] -= 1\n",
    "            ct += 1\n",
    "print (tag_sent_values)\n",
    "print (ct)\n",
    "plt.bar(tag_sent_values.keys(),tag_sent_values.values(),color=['g','b','r','k'])\n",
    "plt.xticks(rotation='vertical')\n",
    "plt.show()"
   ]
  },
  {
   "cell_type": "markdown",
   "metadata": {},
   "source": [
    "### #justdoit - no neutral tweets"
   ]
  },
  {
   "cell_type": "code",
   "execution_count": 40,
   "metadata": {},
   "outputs": [],
   "source": [
    "justdoit = deepcopy(tag_sent_list['#justdoit'])\n",
    "justdoit_alt = []\n",
    "for tweet in justdoit:\n",
    "    if tweet == 0:\n",
    "        pass\n",
    "    else:\n",
    "        justdoit_alt.append(tweet)\n",
    "#print(justdoit_alt)"
   ]
  },
  {
   "cell_type": "code",
   "execution_count": 41,
   "metadata": {},
   "outputs": [
    {
     "data": {
      "image/png": "[encoded data removed]",
      "text/plain": [
       "<Figure size 432x288 with 1 Axes>"
      ]
     },
     "metadata": {
      "needs_background": "light"
     },
     "output_type": "display_data"
    }
   ],
   "source": [
    "plt.hist(justdoit_alt,bins=[-10,0,10],rwidth=0.9)\n",
    "plt.title('NEGATIVE                           POSITIVE')\n",
    "plt.show()"
   ]
  },
  {
   "cell_type": "markdown",
   "metadata": {},
   "source": [
    "### #nike - no neutral tweets"
   ]
  },
  {
   "cell_type": "code",
   "execution_count": 42,
   "metadata": {},
   "outputs": [],
   "source": [
    "nike = deepcopy(tag_sent_list['#nike'])\n",
    "nike_alt = []\n",
    "for tweet in nike:\n",
    "    if tweet == 0:\n",
    "        pass\n",
    "    else:\n",
    "        nike_alt.append(tweet)"
   ]
  },
  {
   "cell_type": "code",
   "execution_count": 43,
   "metadata": {},
   "outputs": [
    {
     "data": {
      "image/png": "[encoded data removed]",
      "text/plain": [
       "<Figure size 432x288 with 1 Axes>"
      ]
     },
     "metadata": {
      "needs_background": "light"
     },
     "output_type": "display_data"
    }
   ],
   "source": [
    "plt.hist(nike_alt,bins=[-10,0,10],rwidth=0.9)\n",
    "plt.title('NEGATIVE                           POSITIVE')\n",
    "plt.show()"
   ]
  },
  {
   "cell_type": "markdown",
   "metadata": {},
   "source": [
    "### @nike - no neutral tweets"
   ]
  },
  {
   "cell_type": "code",
   "execution_count": 44,
   "metadata": {},
   "outputs": [],
   "source": [
    "atnike = deepcopy(tag_sent_list['@nike'])\n",
    "atnike_alt = []\n",
    "for tweet in atnike:\n",
    "    if tweet == 0:\n",
    "        pass\n",
    "    else:\n",
    "        atnike_alt.append(tweet)"
   ]
  },
  {
   "cell_type": "code",
   "execution_count": 45,
   "metadata": {},
   "outputs": [
    {
     "data": {
      "image/png": "[encoded data removed]",
      "text/plain": [
       "<Figure size 432x288 with 1 Axes>"
      ]
     },
     "metadata": {
      "needs_background": "light"
     },
     "output_type": "display_data"
    }
   ],
   "source": [
    "plt.hist(atnike_alt,bins=[-10,0,10],rwidth=0.9)\n",
    "plt.title('NEGATIVE                           POSITIVE')\n",
    "plt.show()"
   ]
  },
  {
   "cell_type": "code",
   "execution_count": 46,
   "metadata": {},
   "outputs": [
    {
     "name": "stdout",
     "output_type": "stream",
     "text": [
      "17225\n",
      "3907\n"
     ]
    }
   ],
   "source": [
    "ad_rollout = datetime.datetime(2018,9,2,23,59)\n",
    "one_week_after = datetime.datetime(2018,9,12,23,59)\n",
    "before = df[df.date < ad_rollout]\n",
    "after = df[df.date > ad_rollout]\n",
    "btweets = list(before.tweet)\n",
    "right_after = after[after.date < one_week_after]\n",
    "week_past = after[after.date > one_week_after]\n",
    "ratweets = list(right_after.tweet)\n",
    "wptweets = list(week_past.tweet)\n",
    "print(len(ratweets))\n",
    "print(len(wptweets))"
   ]
  },
  {
   "cell_type": "markdown",
   "metadata": {},
   "source": [
    "### Removes retweets"
   ]
  },
  {
   "cell_type": "code",
   "execution_count": 47,
   "metadata": {
    "scrolled": true
   },
   "outputs": [
    {
     "name": "stderr",
     "output_type": "stream",
     "text": [
      "C:\\Users\\hza0020\\AppData\\Local\\Continuum\\anaconda3\\lib\\site-packages\\ipykernel_launcher.py:3: DeprecationWarning: \n",
      ".ix is deprecated. Please use\n",
      ".loc for label based indexing or\n",
      ".iloc for positional indexing\n",
      "\n",
      "See the documentation here:\n",
      "http://pandas.pydata.org/pandas-docs/stable/indexing.html#ix-indexer-is-deprecated\n",
      "  This is separate from the ipykernel package so we can avoid doing imports until\n"
     ]
    }
   ],
   "source": [
    "rm_duplicates = False\n",
    "if rm_duplicates == False:\n",
    "    df['rt'] = df['tweet'].str.split(':', expand=True).ix[:,0]\n",
    "    df.drop_duplicates(subset=['rt'], keep='first',inplace=True)\n",
    "    df.rt.head()\n",
    "    df.shape[0]"
   ]
  },
  {
   "cell_type": "code",
   "execution_count": 48,
   "metadata": {},
   "outputs": [
    {
     "name": "stdout",
     "output_type": "stream",
     "text": [
      "#BOYCOTTNIKE:   540\n",
      "#IMWITHKAP:   105\n",
      "#JUSTDOIT:   1357\n",
      "#NIKE:   2916\n",
      "@NIKE:   1285\n",
      "@KAEPERNICK7:   530\n",
      "#BOYCOTTKAEPERNICK:   8\n",
      "#COLINKAEPERNICK:   312\n",
      "#NFL:   132\n",
      "{'#boycottnike': -0.06296296296296296, '#imwithkap': -0.05714285714285714, '#justdoit': 0.3492999263080324, '#nike': 0.08196159122085048, '@nike': 0.2396887159533074, '@kaepernick7': 0.35471698113207545, '#boycottkaepernick': 0.25, '#colinkaepernick': 0.1858974358974359, '#nfl': 0.08333333333333333}\n"
     ]
    }
   ],
   "source": [
    "tweets = list(df.tweet)\n",
    "\n",
    "hashtags = ['#BoycottNike','#ImWithKap','#JustDoIt','#Nike','@Nike','@kaepernick7',\\\n",
    "           '#BoycottKaepernick','#ColinKaepernick','#NFL']\n",
    "for i, tag in enumerate(hashtags): hashtags[i] = tag.lower() \n",
    "counts = [0 for i in range(len(hashtags))]\n",
    "for tweet in tweets:\n",
    "    tweet = tweet.lower()\n",
    "    for i, tag in enumerate(hashtags):\n",
    "        if tag in tweet:\n",
    "            counts[i] += 1\n",
    "for i, tag in enumerate(hashtags):\n",
    "    print(tag.upper()+':   '+str(counts[i]))\n",
    "tcounts = deepcopy(counts)\n",
    "\n",
    "tweet_sent = []\n",
    "for tweet in tweets:\n",
    "    tweet = tweet.lower()\n",
    "    tweet = tweet.split(' ')\n",
    "    sent = 0\n",
    "    for word in tweet:\n",
    "        word = word.strip('#')\n",
    "        try:\n",
    "            sent += sent_dict[word]\n",
    "        except:\n",
    "            pass\n",
    "    tweet_sent.append(sent)\n",
    "\n",
    "hashtags = ['#BoycottNike','#ImWithKap','#JustDoIt','#Nike','@Nike','@kaepernick7',\\\n",
    "           '#BoycottKaepernick','#ColinKaepernick','#NFL']\n",
    "for i, tag in enumerate(hashtags): hashtags[i] = tag.lower() \n",
    "counts = [0 for i in range(len(hashtags))]\n",
    "tag_sents = {}\n",
    "tag_sent_list = {}\n",
    "tag_sent_values = {}\n",
    "for tag in hashtags:\n",
    "    tag = tag.lower()\n",
    "    tag_sents[tag] = 0\n",
    "    tag_sent_list[tag] = []\n",
    "    tag_sent_values[tag] = 0\n",
    "#tweets_ = tweets[:100]\n",
    "for tweet in tweets:\n",
    "    tweet = tweet.lower()\n",
    "    tweet = tweet.split(' ')\n",
    "    sent = 0\n",
    "    for word in tweet:\n",
    "        #print (word)\n",
    "        word = word.strip('#')\n",
    "        try:\n",
    "            sent += sent_dict[word]\n",
    "        except:\n",
    "            pass\n",
    "    for i, tag in enumerate(hashtags):\n",
    "        tag = tag.lower()\n",
    "        if tag in tweet:\n",
    "            try:\n",
    "                tag_sents[tag] += sent\n",
    "                tag_sent_list[tag].append(sent)\n",
    "            except:\n",
    "                pass\n",
    "tag_sents_ = deepcopy(tag_sents)\n",
    "for i, key in enumerate(tag_sents_.keys()):\n",
    "    tag_sents_[key] = tag_sents_[key]/tcounts[i]\n",
    "print (tag_sents_)"
   ]
  },
  {
   "cell_type": "code",
   "execution_count": 49,
   "metadata": {},
   "outputs": [
    {
     "data": {
      "image/png": "[encoded data removed]",
      "text/plain": [
       "<Figure size 432x288 with 1 Axes>"
      ]
     },
     "metadata": {
      "needs_background": "light"
     },
     "output_type": "display_data"
    }
   ],
   "source": [
    "plt.bar(tag_sents_.keys(),tag_sents_.values(),color=['r','g','b','k'])\n",
    "plt.xticks(rotation='vertical')\n",
    "plt.show()"
   ]
  },
  {
   "cell_type": "code",
   "execution_count": 50,
   "metadata": {},
   "outputs": [
    {
     "name": "stdout",
     "output_type": "stream",
     "text": [
      "{'#boycottnike': -5, '#imwithkap': 2, '#justdoit': 172, '#nike': 69, '@nike': 120, '@kaepernick7': 77, '#boycottkaepernick': 1, '#colinkaepernick': 26, '#nfl': 3}\n",
      "2451\n"
     ]
    },
    {
     "data": {
      "image/png": "[encoded data removed]",
      "text/plain": [
       "<Figure size 432x288 with 1 Axes>"
      ]
     },
     "metadata": {
      "needs_background": "light"
     },
     "output_type": "display_data"
    }
   ],
   "source": [
    "ct = 0\n",
    "for i, tag in enumerate(tag_sent_list.keys()):\n",
    "    #print(len(tag_sent_list[tag]))\n",
    "    for tweet in tag_sent_list[tag]:\n",
    "        if tweet > 0:\n",
    "            tag_sent_values[tag] += 1\n",
    "            ct += 1\n",
    "        elif tweet < 0:\n",
    "            tag_sent_values[tag] -= 1\n",
    "            ct += 1\n",
    "print (tag_sent_values)\n",
    "print (ct)\n",
    "plt.bar(tag_sent_values.keys(),tag_sent_values.values(),color=['g','b','r','k'])\n",
    "plt.xticks(rotation='vertical')\n",
    "plt.show()"
   ]
  },
  {
   "cell_type": "code",
   "execution_count": null,
   "metadata": {},
   "outputs": [],
   "source": []
  },
  {
   "cell_type": "code",
   "execution_count": null,
   "metadata": {},
   "outputs": [],
   "source": []
  },
  {
   "cell_type": "code",
   "execution_count": null,
   "metadata": {},
   "outputs": [],
   "source": []
  }
 ],
 "metadata": {
  "kernelspec": {
   "display_name": "Python 3",
   "language": "python",
   "name": "python3"
  },
  "language_info": {
   "codemirror_mode": {
    "name": "ipython",
    "version": 3
   },
   "file_extension": ".py",
   "mimetype": "text/x-python",
   "name": "python",
   "nbconvert_exporter": "python",
   "pygments_lexer": "ipython3",
   "version": "3.7.1"
  }
 },
 "nbformat": 4,
 "nbformat_minor": 2
}
